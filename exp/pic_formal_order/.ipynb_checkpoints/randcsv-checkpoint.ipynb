{
 "cells": [
  {
   "cell_type": "code",
   "execution_count": 18,
   "metadata": {},
   "outputs": [
    {
     "name": "stdout",
     "output_type": "stream",
     "text": [
      "{1: ['pic/1.png', \"['1']\"], 2: ['pic/2.png', \"['2']\"], 3: ['pic/3.png', \"['3']\"], 4: ['pic/4.png', \"['4']\"], 5: ['pic/5.png', \"['5']\"], 6: ['pic/6.png', \"['6']\"], 7: ['pic/7.png', \"['7']\"], 8: ['pic/8.png', \"['8']\"], 9: ['pic/9.png', \"['9']\"]}\n"
     ]
    }
   ],
   "source": [
    "list0 = []\n",
    "for i in range(1, 10):\n",
    "    list0.append(['pic/' + str(i) +'.png', \"['{}']\".format(str(i))])\n",
    "dict0 = {}\n",
    "for i in range(len(list0)):\n",
    "    dict0[i+1] = list0[i]\n",
    "print(dict0)"
   ]
  },
  {
   "cell_type": "code",
   "execution_count": 11,
   "metadata": {},
   "outputs": [],
   "source": [
    "import pandas as pd\n",
    "data = pd.DataFrame(list0)\n",
    "data.to_csv('1.csv')"
   ]
  },
  {
   "cell_type": "code",
   "execution_count": 47,
   "metadata": {},
   "outputs": [],
   "source": [
    "import random\n",
    "num = []\n",
    "AAnum = []\n",
    "def naa():\n",
    "    ret = []\n",
    "    for i in range(5):\n",
    "        n = random.randint(1,9)\n",
    "        ret.append(n)\n",
    "        ret.append(n)\n",
    "    return ret"
   ]
  },
  {
   "cell_type": "code",
   "execution_count": 48,
   "metadata": {},
   "outputs": [],
   "source": [
    "def addhuan():\n",
    "    ret = []\n",
    "    ret.append(random.randint(1,9))\n",
    "    ret.append(random.randint(1,9))\n",
    "    return ret"
   ]
  },
  {
   "cell_type": "code",
   "execution_count": 49,
   "metadata": {},
   "outputs": [],
   "source": [
    "AAAnum = []\n",
    "def naaa():\n",
    "    ret = []\n",
    "    for i in range(4):\n",
    "        n = random.randint(1,9)\n",
    "        ret.append(n)\n",
    "        ret.append(n)\n",
    "        ret.append(n)\n",
    "    return ret"
   ]
  },
  {
   "cell_type": "code",
   "execution_count": 59,
   "metadata": {},
   "outputs": [],
   "source": [
    "ABBnum = []\n",
    "def nabb():\n",
    "    ret = []\n",
    "    for i in range(8):\n",
    "        while(1):\n",
    "            a = random.randint(1,9)\n",
    "            b = random.randint(1,9)\n",
    "            if (a != b):\n",
    "                break\n",
    "        ret.append(a)\n",
    "        ret.append(b)\n",
    "        ret.append(b)\n",
    "    return ret"
   ]
  },
  {
   "cell_type": "code",
   "execution_count": 51,
   "metadata": {},
   "outputs": [],
   "source": [
    "w_or_h = []\n",
    "def wh():\n",
    "    ret = []\n",
    "    for i in range(4):\n",
    "        x = random.randint(1,2)\n",
    "\n",
    "        if (x == 1):#hang\n",
    "            base = random.randint(1,3) *3 - 2\n",
    "            ret.append(base)\n",
    "            ret.append(base+1)\n",
    "            ret.append(base+2)\n",
    "        else:#lie\n",
    "            base = random.randint(1,3)\n",
    "            ret.append(base)\n",
    "            ret.append(base+3)\n",
    "            ret.append(base+6)\n",
    "    return ret"
   ]
  },
  {
   "cell_type": "code",
   "execution_count": 63,
   "metadata": {},
   "outputs": [
    {
     "name": "stdout",
     "output_type": "stream",
     "text": [
      "[9, 5, 1, 3, 5, 7, 1, 5, 9, 7, 5, 3]\n"
     ]
    }
   ],
   "source": [
    "cross = []\n",
    "def ncross():\n",
    "    ret = []\n",
    "    cross0 = [1, 5, 9]\n",
    "    cross1 = [9, 5, 1]\n",
    "    cross2 = [7, 5, 3]\n",
    "    cross3 = [3, 5, 7]\n",
    "    crosses = [cross0, cross1, cross2, cross3]\n",
    "    for i in range(4):\n",
    "        x = random.randint(1, 4)\n",
    "        for j in crosses[x- 1]:\n",
    "            ret.append(j)\n",
    "    return ret"
   ]
  },
  {
   "cell_type": "code",
   "execution_count": 74,
   "metadata": {},
   "outputs": [
    {
     "ename": "UnboundLocalError",
     "evalue": "local variable 'c' referenced before assignment",
     "output_type": "error",
     "traceback": [
      "\u001b[1;31m---------------------------------------------------------------------------\u001b[0m",
      "\u001b[1;31mUnboundLocalError\u001b[0m                         Traceback (most recent call last)",
      "\u001b[1;32m<ipython-input-74-2c5bf5ecf690>\u001b[0m in \u001b[0;36m<module>\u001b[1;34m\u001b[0m\n\u001b[0;32m     17\u001b[0m         \u001b[0mprint\u001b[0m\u001b[1;33m(\u001b[0m\u001b[0mret\u001b[0m\u001b[1;33m)\u001b[0m\u001b[1;33m\u001b[0m\u001b[1;33m\u001b[0m\u001b[0m\n\u001b[0;32m     18\u001b[0m         \u001b[1;32mreturn\u001b[0m \u001b[0mret\u001b[0m\u001b[1;33m\u001b[0m\u001b[1;33m\u001b[0m\u001b[0m\n\u001b[1;32m---> 19\u001b[1;33m \u001b[0mabc3\u001b[0m\u001b[1;33m(\u001b[0m\u001b[1;33m)\u001b[0m\u001b[1;33m\u001b[0m\u001b[1;33m\u001b[0m\u001b[0m\n\u001b[0m",
      "\u001b[1;32m<ipython-input-74-2c5bf5ecf690>\u001b[0m in \u001b[0;36mabc3\u001b[1;34m()\u001b[0m\n\u001b[0;32m     14\u001b[0m                 \u001b[0mret\u001b[0m\u001b[1;33m.\u001b[0m\u001b[0mappend\u001b[0m\u001b[1;33m(\u001b[0m\u001b[0ma\u001b[0m\u001b[1;33m)\u001b[0m\u001b[1;33m\u001b[0m\u001b[1;33m\u001b[0m\u001b[0m\n\u001b[0;32m     15\u001b[0m                 \u001b[0mret\u001b[0m\u001b[1;33m.\u001b[0m\u001b[0mappend\u001b[0m\u001b[1;33m(\u001b[0m\u001b[0mb\u001b[0m\u001b[1;33m)\u001b[0m\u001b[1;33m\u001b[0m\u001b[1;33m\u001b[0m\u001b[0m\n\u001b[1;32m---> 16\u001b[1;33m                 \u001b[0mret\u001b[0m\u001b[1;33m.\u001b[0m\u001b[0mappend\u001b[0m\u001b[1;33m(\u001b[0m\u001b[0mc\u001b[0m\u001b[1;33m)\u001b[0m\u001b[1;33m\u001b[0m\u001b[1;33m\u001b[0m\u001b[0m\n\u001b[0m\u001b[0;32m     17\u001b[0m         \u001b[0mprint\u001b[0m\u001b[1;33m(\u001b[0m\u001b[0mret\u001b[0m\u001b[1;33m)\u001b[0m\u001b[1;33m\u001b[0m\u001b[1;33m\u001b[0m\u001b[0m\n\u001b[0;32m     18\u001b[0m         \u001b[1;32mreturn\u001b[0m \u001b[0mret\u001b[0m\u001b[1;33m\u001b[0m\u001b[1;33m\u001b[0m\u001b[0m\n",
      "\u001b[1;31mUnboundLocalError\u001b[0m: local variable 'c' referenced before assignment"
     ]
    }
   ],
   "source": [
    "abc_n = []\n",
    "def abc3():\n",
    "    ret = []\n",
    "    for i in range(5):\n",
    "        m = random.randint(1, 9)\n",
    "        flag = 0\n",
    "        while(flag == 0):\n",
    "            n = random.randint(1, 9)\n",
    "            if (b != a):\n",
    "                c = random.randint(1, 9)\n",
    "                if (c != b and c != a):\n",
    "                    flag = 1\n",
    "            for x in range(3):\n",
    "                ret.append(a)\n",
    "                ret.append(b)\n",
    "                ret.append(c)\n",
    "        print(ret)\n",
    "        return ret\n",
    "abc3()"
   ]
  },
  {
   "cell_type": "code",
   "execution_count": 66,
   "metadata": {},
   "outputs": [
    {
     "name": "stdout",
     "output_type": "stream",
     "text": [
      "[[2, 'aa'], [2, 'aa'], [2, 'aa'], [2, 'aa'], [8, 'aa'], [8, 'aa'], [6, 'aa'], [6, 'aa'], [3, 'aa'], [3, 'aa'], [1, 'aaa'], [1, 'aaa'], [1, 'aaa'], [3, 'aaa'], [3, 'aaa'], [3, 'aaa'], [2, 'aaa'], [2, 'aaa'], [2, 'aaa'], [8, 'aaa'], [8, 'aaa'], [8, 'aaa'], [1, 'abb'], [2, 'abb'], [2, 'abb'], [3, 'abb'], [4, 'abb'], [4, 'abb'], [8, 'abb'], [4, 'abb'], [4, 'abb'], [1, 'abb'], [2, 'abb'], [2, 'abb'], [2, 'abb'], [7, 'abb'], [7, 'abb'], [1, 'abb'], [5, 'abb'], [5, 'abb'], [6, 'abb'], [3, 'abb'], [3, 'abb'], [4, 'abb'], [5, 'abb'], [5, 'abb'], [3, 'wh'], [6, 'wh'], [9, 'wh'], [1, 'wh'], [2, 'wh'], [3, 'wh'], [7, 'wh'], [8, 'wh'], [9, 'wh'], [3, 'wh'], [6, 'wh'], [9, 'wh'], [3, 'cross'], [5, 'cross'], [7, 'cross'], [9, 'cross'], [5, 'cross'], [1, 'cross'], [1, 'cross'], [5, 'cross'], [9, 'cross'], [3, 'cross'], [5, 'cross'], [7, 'cross'], [8, 'abc3'], [4, 'abc3'], [9, 'abc3'], [8, 'abc3'], [4, 'abc3'], [9, 'abc3'], [8, 'abc3'], [4, 'abc3'], [9, 'abc3']]\n"
     ]
    }
   ],
   "source": [
    "num = []\n",
    "for i in naa():\n",
    "    num.append([i, 'aa'])\n",
    "for i in naaa():\n",
    "    num.append([i, 'aaa'])\n",
    "for i in nabb():\n",
    "    num.append([i, 'abb'])\n",
    "for i in wh():\n",
    "    num.append([i, 'wh'])\n",
    "for i in ncross():\n",
    "    num.append([i, 'cross'])\n",
    "for i in abc3():\n",
    "    num.append([i, 'abc3'])\n",
    "print(num)"
   ]
  },
  {
   "cell_type": "code",
   "execution_count": null,
   "metadata": {},
   "outputs": [],
   "source": []
  }
 ],
 "metadata": {
  "kernelspec": {
   "display_name": "Python 3",
   "language": "python",
   "name": "python3"
  },
  "language_info": {
   "codemirror_mode": {
    "name": "ipython",
    "version": 3
   },
   "file_extension": ".py",
   "mimetype": "text/x-python",
   "name": "python",
   "nbconvert_exporter": "python",
   "pygments_lexer": "ipython3",
   "version": "3.7.1"
  }
 },
 "nbformat": 4,
 "nbformat_minor": 2
}
