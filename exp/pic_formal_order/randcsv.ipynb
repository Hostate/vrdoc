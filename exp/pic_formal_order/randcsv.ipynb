{
 "cells": [
  {
   "cell_type": "code",
   "execution_count": 107,
   "metadata": {},
   "outputs": [
    {
     "name": "stdout",
     "output_type": "stream",
     "text": [
      "{1: ['pic/1.png', \"['1']\"], 2: ['pic/2.png', \"['2']\"], 3: ['pic/3.png', \"['3']\"], 4: ['pic/4.png', \"['4']\"], 5: ['pic/5.png', \"['5']\"], 6: ['pic/6.png', \"['6']\"], 7: ['pic/7.png', \"['7']\"], 8: ['pic/8.png', \"['8']\"], 9: ['pic/9.png', \"['9']\"]}\n"
     ]
    }
   ],
   "source": [
    "for i in range(1, 10):\n",
    "    list0.append(['pic/' + str(i) +'.png', \"['{}']\".format(str(i))])\n",
    "dict0 = {}\n",
    "for i in range(len(list0)):\n",
    "    dict0[i+1] = list0[i]\n",
    "print(dict0)"
   ]
  },
  {
   "cell_type": "code",
   "execution_count": 11,
   "metadata": {},
   "outputs": [],
   "source": [
    "import pandas as pd\n",
    "data = pd.DataFrame(list0)\n",
    "data.to_csv('1.csv')"
   ]
  },
  {
   "cell_type": "code",
   "execution_count": 47,
   "metadata": {},
   "outputs": [],
   "source": [
    "import random\n",
    "num = []\n",
    "AAnum = []\n",
    "def naa():\n",
    "    ret = []\n",
    "    for i in range(5):\n",
    "        n = random.randint(1,9)\n",
    "        ret.append(n)\n",
    "        ret.append(n)\n",
    "    return ret"
   ]
  },
  {
   "cell_type": "code",
   "execution_count": 87,
   "metadata": {},
   "outputs": [
    {
     "data": {
      "text/plain": [
       "[8, 4]"
      ]
     },
     "execution_count": 87,
     "metadata": {},
     "output_type": "execute_result"
    }
   ],
   "source": [
    "def addhuan():\n",
    "    ret = []\n",
    "    while(1):\n",
    "        a = random.randint(1,9)\n",
    "        b = random.randint(1,9)\n",
    "        if (a != b):\n",
    "            break\n",
    "    ret.append(a)\n",
    "    ret.append(b)\n",
    "    return ret"
   ]
  },
  {
   "cell_type": "code",
   "execution_count": 49,
   "metadata": {},
   "outputs": [],
   "source": [
    "AAAnum = []\n",
    "def naaa():\n",
    "    ret = []\n",
    "    for i in range(4):\n",
    "        n = random.randint(1,9)\n",
    "        ret.append(n)\n",
    "        ret.append(n)\n",
    "        ret.append(n)\n",
    "    return ret"
   ]
  },
  {
   "cell_type": "code",
   "execution_count": 59,
   "metadata": {},
   "outputs": [],
   "source": [
    "ABBnum = []\n",
    "def nabb():\n",
    "    ret = []\n",
    "    for i in range(8):\n",
    "        while(1):\n",
    "            a = random.randint(1,9)\n",
    "            b = random.randint(1,9)\n",
    "            if (a != b):\n",
    "                break\n",
    "        ret.append(a)\n",
    "        ret.append(b)\n",
    "        ret.append(b)\n",
    "    return ret"
   ]
  },
  {
   "cell_type": "code",
   "execution_count": 51,
   "metadata": {},
   "outputs": [],
   "source": [
    "w_or_h = []\n",
    "def wh():\n",
    "    ret = []\n",
    "    for i in range(4):\n",
    "        x = random.randint(1,2)\n",
    "\n",
    "        if (x == 1):#hang\n",
    "            base = random.randint(1,3) *3 - 2\n",
    "            ret.append(base)\n",
    "            ret.append(base+1)\n",
    "            ret.append(base+2)\n",
    "        else:#lie\n",
    "            base = random.randint(1,3)\n",
    "            ret.append(base)\n",
    "            ret.append(base+3)\n",
    "            ret.append(base+6)\n",
    "    return ret"
   ]
  },
  {
   "cell_type": "code",
   "execution_count": 84,
   "metadata": {},
   "outputs": [
    {
     "data": {
      "text/plain": [
       "[9, 5, 1, 1, 5, 9, 1, 5, 9, 3, 5, 7]"
      ]
     },
     "execution_count": 84,
     "metadata": {},
     "output_type": "execute_result"
    }
   ],
   "source": [
    "cross = []\n",
    "def ncross():\n",
    "    ret = []\n",
    "    cross0 = [1, 5, 9]\n",
    "    cross1 = [9, 5, 1]\n",
    "    cross2 = [7, 5, 3]\n",
    "    cross3 = [3, 5, 7]\n",
    "    crosses = [cross0, cross1, cross2, cross3]\n",
    "    for i in range(4):\n",
    "        x = random.randint(1, 4)\n",
    "        for j in crosses[x- 1]:\n",
    "            ret.append(j)\n",
    "    return ret"
   ]
  },
  {
   "cell_type": "code",
   "execution_count": 138,
   "metadata": {},
   "outputs": [],
   "source": [
    "abc_n = []\n",
    "def abc3():\n",
    "    ret = []\n",
    "    for i in range(3):\n",
    "        flag = 0\n",
    "        while(flag == 0):\n",
    "            a = random.randint(1, 9)\n",
    "            b = random.randint(1, 9)\n",
    "            c = random.randint(1, 9)\n",
    "            if (a != b and a != c and b != c):\n",
    "                flag = 1\n",
    "                for x in range(3):\n",
    "                    ret.append(a)\n",
    "                    ret.append(b)\n",
    "                    ret.append(c)\n",
    "    return ret"
   ]
  },
  {
   "cell_type": "code",
   "execution_count": 150,
   "metadata": {},
   "outputs": [],
   "source": [
    "list0 = []\n",
    "for i in range(1, 10):\n",
    "    list0.append(['pic/' + str(i) +'.png', \"['{}']\".format(str(i))])\n",
    "dict0 = {}\n",
    "for i in range(len(list0)):\n",
    "    dict0[i+1] = list0[i]\n",
    "#print(dict0)\n",
    "num = []\n",
    "for i in naa():\n",
    "    num.append([i, 'aa'])\n",
    "for i in addhuan():\n",
    "    num.append([i, 'huan'])\n",
    "for i in naaa():\n",
    "    num.append([i, 'aaa'])\n",
    "for i in addhuan():\n",
    "    num.append([i, 'huan'])\n",
    "for i in nabb():\n",
    "    num.append([i, 'abb'])\n",
    "for i in addhuan():\n",
    "    num.append([i, 'huan'])\n",
    "for i in wh():\n",
    "    num.append([i, 'wh'])\n",
    "for i in ncross():\n",
    "    num.append([i, 'cross'])\n",
    "for i in addhuan():\n",
    "    num.append([i, 'huan'])\n",
    "for i in abc3():\n",
    "    num.append([i, 'abc3'])\n",
    "ready = []\n",
    "for i in range(len(num)):\n",
    "    tem = dict0[num[i][0]][:]\n",
    "    tem.append(num[i][1])\n",
    "    tem.append(i+1)\n",
    "    ready.append(tem)\n",
    "data = pd.DataFrame(ready, columns = ['pic', 'ans', 'cla', 'no'])\n",
    "data.to_csv('ds.csv', index = False)"
   ]
  },
  {
   "cell_type": "code",
   "execution_count": null,
   "metadata": {},
   "outputs": [],
   "source": []
  }
 ],
 "metadata": {
  "kernelspec": {
   "display_name": "Python 3",
   "language": "python",
   "name": "python3"
  },
  "language_info": {
   "codemirror_mode": {
    "name": "ipython",
    "version": 3
   },
   "file_extension": ".py",
   "mimetype": "text/x-python",
   "name": "python",
   "nbconvert_exporter": "python",
   "pygments_lexer": "ipython3",
   "version": "3.7.1"
  }
 },
 "nbformat": 4,
 "nbformat_minor": 2
}
